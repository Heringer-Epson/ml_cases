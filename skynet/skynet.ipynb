{
 "cells": [
  {
   "cell_type": "markdown",
   "metadata": {},
   "source": [
    "# Skynet - interview case"
   ]
  },
  {
   "cell_type": "markdown",
   "metadata": {},
   "source": [
    "# 1) Region finder with multi-processing \n",
    "\n",
    "* You are given the location of a home at Latitude 45.55 and Longitude -80.22,  find the closest RegionID\n",
    "\n",
    "* For that RegionID determine the Average Loss over a 100,000 year period.  You can also then calculate the TVAR(80) also assuming a 100,000 year period.  Note:  the number of RegionID here is a very small sample of locations that exist in Canada. What you are seeing here is a small fraction of all RegionID we will need to consider.  You therefore need to build your query using some sort of multi processing approach to minimize run time.  For the full set of data we have reduced this to less than a second.\n",
    "\n",
    "* Find the 5 nearest neighbours to that RegionID, with the same Characteristics, and plot the Mean Loss for each of the nearest neighbours so you can visualize a heat map. Plot the heat map on top of a high resolution satellite image of the area.\n"
   ]
  },
  {
   "cell_type": "markdown",
   "metadata": {},
   "source": [
    "#### Imports"
   ]
  },
  {
   "cell_type": "code",
   "execution_count": 1,
   "metadata": {},
   "outputs": [],
   "source": [
    "import multiprocessing\n",
    "import numpy as np \n",
    "import pandas as pd\n",
    "import seaborn as sns\n",
    "import matplotlib.pyplot as plt\n",
    "\n",
    "import geopy.distance as gpy_dist\n",
    "\n",
    "%matplotlib inline"
   ]
  },
  {
   "cell_type": "markdown",
   "metadata": {},
   "source": [
    "#### Data Analysis/Visualization - regionID_and_Characteristics.csv"
   ]
  },
  {
   "cell_type": "code",
   "execution_count": 2,
   "metadata": {},
   "outputs": [
    {
     "data": {
      "text/html": [
       "<div>\n",
       "<style scoped>\n",
       "    .dataframe tbody tr th:only-of-type {\n",
       "        vertical-align: middle;\n",
       "    }\n",
       "\n",
       "    .dataframe tbody tr th {\n",
       "        vertical-align: top;\n",
       "    }\n",
       "\n",
       "    .dataframe thead th {\n",
       "        text-align: right;\n",
       "    }\n",
       "</style>\n",
       "<table border=\"1\" class=\"dataframe\">\n",
       "  <thead>\n",
       "    <tr style=\"text-align: right;\">\n",
       "      <th></th>\n",
       "      <th>Tag</th>\n",
       "      <th>RegionID</th>\n",
       "      <th>Latitude</th>\n",
       "      <th>Longitude</th>\n",
       "      <th>FSA</th>\n",
       "      <th>Characteristic_1</th>\n",
       "      <th>Characteristic_2</th>\n",
       "      <th>Characteristic_3</th>\n",
       "      <th>Stories</th>\n",
       "    </tr>\n",
       "  </thead>\n",
       "  <tbody>\n",
       "    <tr>\n",
       "      <th>0</th>\n",
       "      <td>451897</td>\n",
       "      <td>189734</td>\n",
       "      <td>44.170834</td>\n",
       "      <td>-78.787498</td>\n",
       "      <td>L0B</td>\n",
       "      <td>2</td>\n",
       "      <td>11</td>\n",
       "      <td>21</td>\n",
       "      <td>0</td>\n",
       "    </tr>\n",
       "    <tr>\n",
       "      <th>1</th>\n",
       "      <td>451898</td>\n",
       "      <td>189735</td>\n",
       "      <td>44.187500</td>\n",
       "      <td>-78.787498</td>\n",
       "      <td>L0B</td>\n",
       "      <td>2</td>\n",
       "      <td>11</td>\n",
       "      <td>21</td>\n",
       "      <td>0</td>\n",
       "    </tr>\n",
       "    <tr>\n",
       "      <th>2</th>\n",
       "      <td>451929</td>\n",
       "      <td>189766</td>\n",
       "      <td>43.837502</td>\n",
       "      <td>-79.145836</td>\n",
       "      <td>L1X</td>\n",
       "      <td>2</td>\n",
       "      <td>11</td>\n",
       "      <td>21</td>\n",
       "      <td>0</td>\n",
       "    </tr>\n",
       "    <tr>\n",
       "      <th>3</th>\n",
       "      <td>451930</td>\n",
       "      <td>189767</td>\n",
       "      <td>43.837502</td>\n",
       "      <td>-79.137497</td>\n",
       "      <td>L1X</td>\n",
       "      <td>2</td>\n",
       "      <td>11</td>\n",
       "      <td>21</td>\n",
       "      <td>0</td>\n",
       "    </tr>\n",
       "    <tr>\n",
       "      <th>4</th>\n",
       "      <td>452090</td>\n",
       "      <td>189927</td>\n",
       "      <td>45.887501</td>\n",
       "      <td>-80.720833</td>\n",
       "      <td>P0G</td>\n",
       "      <td>2</td>\n",
       "      <td>11</td>\n",
       "      <td>21</td>\n",
       "      <td>0</td>\n",
       "    </tr>\n",
       "  </tbody>\n",
       "</table>\n",
       "</div>"
      ],
      "text/plain": [
       "      Tag  RegionID   Latitude  Longitude  FSA  Characteristic_1  \\\n",
       "0  451897    189734  44.170834 -78.787498  L0B                 2   \n",
       "1  451898    189735  44.187500 -78.787498  L0B                 2   \n",
       "2  451929    189766  43.837502 -79.145836  L1X                 2   \n",
       "3  451930    189767  43.837502 -79.137497  L1X                 2   \n",
       "4  452090    189927  45.887501 -80.720833  P0G                 2   \n",
       "\n",
       "   Characteristic_2  Characteristic_3  Stories  \n",
       "0                11                21        0  \n",
       "1                11                21        0  \n",
       "2                11                21        0  \n",
       "3                11                21        0  \n",
       "4                11                21        0  "
      ]
     },
     "execution_count": 2,
     "metadata": {},
     "output_type": "execute_result"
    }
   ],
   "source": [
    "#Load data. Rename missing column name.\n",
    "dfc = pd.read_csv('./data/regionID_and_Characteristics.csv', header=0)\n",
    "dfc.rename(columns={'Unnamed: 0': 'Tag'}, inplace=True)\n",
    "dfc.head()"
   ]
  },
  {
   "cell_type": "code",
   "execution_count": 3,
   "metadata": {},
   "outputs": [
    {
     "data": {
      "text/plain": [
       "Tag                 0\n",
       "RegionID            0\n",
       "Latitude            0\n",
       "Longitude           0\n",
       "FSA                 0\n",
       "Characteristic_1    0\n",
       "Characteristic_2    0\n",
       "Characteristic_3    0\n",
       "Stories             0\n",
       "dtype: int64"
      ]
     },
     "execution_count": 3,
     "metadata": {},
     "output_type": "execute_result"
    }
   ],
   "source": [
    "#Inspect NaN.\n",
    "dfc.isna().sum()"
   ]
  },
  {
   "cell_type": "code",
   "execution_count": 4,
   "metadata": {},
   "outputs": [
    {
     "data": {
      "text/html": [
       "<div>\n",
       "<style scoped>\n",
       "    .dataframe tbody tr th:only-of-type {\n",
       "        vertical-align: middle;\n",
       "    }\n",
       "\n",
       "    .dataframe tbody tr th {\n",
       "        vertical-align: top;\n",
       "    }\n",
       "\n",
       "    .dataframe thead th {\n",
       "        text-align: right;\n",
       "    }\n",
       "</style>\n",
       "<table border=\"1\" class=\"dataframe\">\n",
       "  <thead>\n",
       "    <tr style=\"text-align: right;\">\n",
       "      <th></th>\n",
       "      <th>Tag</th>\n",
       "      <th>RegionID</th>\n",
       "      <th>Latitude</th>\n",
       "      <th>Longitude</th>\n",
       "      <th>Characteristic_1</th>\n",
       "      <th>Characteristic_2</th>\n",
       "      <th>Characteristic_3</th>\n",
       "      <th>Stories</th>\n",
       "    </tr>\n",
       "  </thead>\n",
       "  <tbody>\n",
       "    <tr>\n",
       "      <th>count</th>\n",
       "      <td>100.000000</td>\n",
       "      <td>100.000000</td>\n",
       "      <td>100.000000</td>\n",
       "      <td>100.000000</td>\n",
       "      <td>100.000000</td>\n",
       "      <td>100.000000</td>\n",
       "      <td>100.000000</td>\n",
       "      <td>100.0</td>\n",
       "    </tr>\n",
       "    <tr>\n",
       "      <th>mean</th>\n",
       "      <td>452128.540000</td>\n",
       "      <td>189965.540000</td>\n",
       "      <td>45.571917</td>\n",
       "      <td>-80.337583</td>\n",
       "      <td>1.990000</td>\n",
       "      <td>11.990000</td>\n",
       "      <td>22.000000</td>\n",
       "      <td>0.0</td>\n",
       "    </tr>\n",
       "    <tr>\n",
       "      <th>std</th>\n",
       "      <td>51.973268</td>\n",
       "      <td>51.973268</td>\n",
       "      <td>0.373542</td>\n",
       "      <td>0.308008</td>\n",
       "      <td>0.822598</td>\n",
       "      <td>0.822598</td>\n",
       "      <td>0.852803</td>\n",
       "      <td>0.0</td>\n",
       "    </tr>\n",
       "    <tr>\n",
       "      <th>min</th>\n",
       "      <td>451897.000000</td>\n",
       "      <td>189734.000000</td>\n",
       "      <td>43.837502</td>\n",
       "      <td>-80.720833</td>\n",
       "      <td>1.000000</td>\n",
       "      <td>11.000000</td>\n",
       "      <td>21.000000</td>\n",
       "      <td>0.0</td>\n",
       "    </tr>\n",
       "    <tr>\n",
       "      <th>25%</th>\n",
       "      <td>452110.750000</td>\n",
       "      <td>189947.750000</td>\n",
       "      <td>45.437500</td>\n",
       "      <td>-80.504166</td>\n",
       "      <td>1.000000</td>\n",
       "      <td>11.000000</td>\n",
       "      <td>21.000000</td>\n",
       "      <td>0.0</td>\n",
       "    </tr>\n",
       "    <tr>\n",
       "      <th>50%</th>\n",
       "      <td>452135.500000</td>\n",
       "      <td>189972.500000</td>\n",
       "      <td>45.604168</td>\n",
       "      <td>-80.370834</td>\n",
       "      <td>2.000000</td>\n",
       "      <td>12.000000</td>\n",
       "      <td>22.000000</td>\n",
       "      <td>0.0</td>\n",
       "    </tr>\n",
       "    <tr>\n",
       "      <th>75%</th>\n",
       "      <td>452160.250000</td>\n",
       "      <td>189997.250000</td>\n",
       "      <td>45.770832</td>\n",
       "      <td>-80.279167</td>\n",
       "      <td>3.000000</td>\n",
       "      <td>13.000000</td>\n",
       "      <td>23.000000</td>\n",
       "      <td>0.0</td>\n",
       "    </tr>\n",
       "    <tr>\n",
       "      <th>max</th>\n",
       "      <td>452185.000000</td>\n",
       "      <td>190022.000000</td>\n",
       "      <td>45.995834</td>\n",
       "      <td>-78.787498</td>\n",
       "      <td>3.000000</td>\n",
       "      <td>13.000000</td>\n",
       "      <td>23.000000</td>\n",
       "      <td>0.0</td>\n",
       "    </tr>\n",
       "  </tbody>\n",
       "</table>\n",
       "</div>"
      ],
      "text/plain": [
       "                 Tag       RegionID    Latitude   Longitude  Characteristic_1  \\\n",
       "count     100.000000     100.000000  100.000000  100.000000        100.000000   \n",
       "mean   452128.540000  189965.540000   45.571917  -80.337583          1.990000   \n",
       "std        51.973268      51.973268    0.373542    0.308008          0.822598   \n",
       "min    451897.000000  189734.000000   43.837502  -80.720833          1.000000   \n",
       "25%    452110.750000  189947.750000   45.437500  -80.504166          1.000000   \n",
       "50%    452135.500000  189972.500000   45.604168  -80.370834          2.000000   \n",
       "75%    452160.250000  189997.250000   45.770832  -80.279167          3.000000   \n",
       "max    452185.000000  190022.000000   45.995834  -78.787498          3.000000   \n",
       "\n",
       "       Characteristic_2  Characteristic_3  Stories  \n",
       "count        100.000000        100.000000    100.0  \n",
       "mean          11.990000         22.000000      0.0  \n",
       "std            0.822598          0.852803      0.0  \n",
       "min           11.000000         21.000000      0.0  \n",
       "25%           11.000000         21.000000      0.0  \n",
       "50%           12.000000         22.000000      0.0  \n",
       "75%           13.000000         23.000000      0.0  \n",
       "max           13.000000         23.000000      0.0  "
      ]
     },
     "execution_count": 4,
     "metadata": {},
     "output_type": "execute_result"
    }
   ],
   "source": [
    "dfc.describe()"
   ]
  },
  {
   "cell_type": "code",
   "execution_count": 5,
   "metadata": {},
   "outputs": [
    {
     "data": {
      "image/png": "[encoded data removed]",
      "text/plain": [
       "<Figure size 864x1440 with 10 Axes>"
      ]
     },
     "metadata": {},
     "output_type": "display_data"
    }
   ],
   "source": [
    "#Show the histogram of all numeric variables. Inspect for outliers and meaningless features.\n",
    "sns.set(font_scale=1.)\n",
    "hist = dfc.hist(bins=30, figsize=(12,20), layout=(5,2))"
   ]
  },
  {
   "cell_type": "code",
   "execution_count": 6,
   "metadata": {},
   "outputs": [],
   "source": [
    "#Let's drop the Stories and Tag columns, as they do not contain relevant information in this dataset.\n",
    "#Use try/except in case we attempt to drop more than once. \n",
    "try:\n",
    "    dfc.drop(['Stories', 'Tag'], axis=1, inplace=True)\n",
    "except:\n",
    "    pass"
   ]
  },
  {
   "cell_type": "markdown",
   "metadata": {},
   "source": [
    "#### Data Analysis/Visualization - regionID_and_event_losses.csv"
   ]
  },
  {
   "cell_type": "code",
   "execution_count": 7,
   "metadata": {},
   "outputs": [
    {
     "data": {
      "text/html": [
       "<div>\n",
       "<style scoped>\n",
       "    .dataframe tbody tr th:only-of-type {\n",
       "        vertical-align: middle;\n",
       "    }\n",
       "\n",
       "    .dataframe tbody tr th {\n",
       "        vertical-align: top;\n",
       "    }\n",
       "\n",
       "    .dataframe thead th {\n",
       "        text-align: right;\n",
       "    }\n",
       "</style>\n",
       "<table border=\"1\" class=\"dataframe\">\n",
       "  <thead>\n",
       "    <tr style=\"text-align: right;\">\n",
       "      <th></th>\n",
       "      <th>Index</th>\n",
       "      <th>RegionID</th>\n",
       "      <th>EventID</th>\n",
       "      <th>YearID</th>\n",
       "      <th>GroundUpLoss</th>\n",
       "    </tr>\n",
       "  </thead>\n",
       "  <tbody>\n",
       "    <tr>\n",
       "      <th>0</th>\n",
       "      <td>0</td>\n",
       "      <td>189734</td>\n",
       "      <td>5758.0</td>\n",
       "      <td>39222</td>\n",
       "      <td>1.185160</td>\n",
       "    </tr>\n",
       "    <tr>\n",
       "      <th>1</th>\n",
       "      <td>1</td>\n",
       "      <td>189735</td>\n",
       "      <td>5758.0</td>\n",
       "      <td>39222</td>\n",
       "      <td>1.187346</td>\n",
       "    </tr>\n",
       "    <tr>\n",
       "      <th>2</th>\n",
       "      <td>2</td>\n",
       "      <td>189734</td>\n",
       "      <td>5758.0</td>\n",
       "      <td>39223</td>\n",
       "      <td>3.580194</td>\n",
       "    </tr>\n",
       "    <tr>\n",
       "      <th>3</th>\n",
       "      <td>3</td>\n",
       "      <td>189735</td>\n",
       "      <td>5758.0</td>\n",
       "      <td>39223</td>\n",
       "      <td>3.582398</td>\n",
       "    </tr>\n",
       "    <tr>\n",
       "      <th>4</th>\n",
       "      <td>4</td>\n",
       "      <td>189766</td>\n",
       "      <td>5758.0</td>\n",
       "      <td>39223</td>\n",
       "      <td>1.214846</td>\n",
       "    </tr>\n",
       "  </tbody>\n",
       "</table>\n",
       "</div>"
      ],
      "text/plain": [
       "   Index  RegionID  EventID  YearID  GroundUpLoss\n",
       "0      0    189734   5758.0   39222      1.185160\n",
       "1      1    189735   5758.0   39222      1.187346\n",
       "2      2    189734   5758.0   39223      3.580194\n",
       "3      3    189735   5758.0   39223      3.582398\n",
       "4      4    189766   5758.0   39223      1.214846"
      ]
     },
     "execution_count": 7,
     "metadata": {},
     "output_type": "execute_result"
    }
   ],
   "source": [
    "dfe = pd.read_csv('./data/regionID_and_event_losses.csv', header=0)\n",
    "dfe.rename(columns={'Unnamed: 0': 'Index'}, inplace=True)\n",
    "dfe.head()"
   ]
  },
  {
   "cell_type": "code",
   "execution_count": 8,
   "metadata": {},
   "outputs": [
    {
     "data": {
      "text/plain": [
       "Index           0\n",
       "RegionID        0\n",
       "EventID         0\n",
       "YearID          0\n",
       "GroundUpLoss    0\n",
       "dtype: int64"
      ]
     },
     "execution_count": 8,
     "metadata": {},
     "output_type": "execute_result"
    }
   ],
   "source": [
    "dfe.isna().sum()"
   ]
  },
  {
   "cell_type": "code",
   "execution_count": 9,
   "metadata": {},
   "outputs": [
    {
     "data": {
      "text/html": [
       "<div>\n",
       "<style scoped>\n",
       "    .dataframe tbody tr th:only-of-type {\n",
       "        vertical-align: middle;\n",
       "    }\n",
       "\n",
       "    .dataframe tbody tr th {\n",
       "        vertical-align: top;\n",
       "    }\n",
       "\n",
       "    .dataframe thead th {\n",
       "        text-align: right;\n",
       "    }\n",
       "</style>\n",
       "<table border=\"1\" class=\"dataframe\">\n",
       "  <thead>\n",
       "    <tr style=\"text-align: right;\">\n",
       "      <th></th>\n",
       "      <th>Index</th>\n",
       "      <th>RegionID</th>\n",
       "      <th>EventID</th>\n",
       "      <th>YearID</th>\n",
       "      <th>GroundUpLoss</th>\n",
       "    </tr>\n",
       "  </thead>\n",
       "  <tbody>\n",
       "    <tr>\n",
       "      <th>count</th>\n",
       "      <td>993033.000000</td>\n",
       "      <td>993033.000000</td>\n",
       "      <td>993033.000000</td>\n",
       "      <td>993033.000000</td>\n",
       "      <td>993033.000000</td>\n",
       "    </tr>\n",
       "    <tr>\n",
       "      <th>mean</th>\n",
       "      <td>496516.000000</td>\n",
       "      <td>189966.231672</td>\n",
       "      <td>5034.256885</td>\n",
       "      <td>34244.964928</td>\n",
       "      <td>16.896187</td>\n",
       "    </tr>\n",
       "    <tr>\n",
       "      <th>std</th>\n",
       "      <td>286664.079268</td>\n",
       "      <td>55.844566</td>\n",
       "      <td>2881.747929</td>\n",
       "      <td>19673.435834</td>\n",
       "      <td>314.658409</td>\n",
       "    </tr>\n",
       "    <tr>\n",
       "      <th>min</th>\n",
       "      <td>0.000000</td>\n",
       "      <td>189734.000000</td>\n",
       "      <td>1.000000</td>\n",
       "      <td>1.000000</td>\n",
       "      <td>0.507096</td>\n",
       "    </tr>\n",
       "    <tr>\n",
       "      <th>25%</th>\n",
       "      <td>248258.000000</td>\n",
       "      <td>189951.000000</td>\n",
       "      <td>2518.000000</td>\n",
       "      <td>17165.000000</td>\n",
       "      <td>1.182945</td>\n",
       "    </tr>\n",
       "    <tr>\n",
       "      <th>50%</th>\n",
       "      <td>496516.000000</td>\n",
       "      <td>189976.000000</td>\n",
       "      <td>5037.000000</td>\n",
       "      <td>34193.000000</td>\n",
       "      <td>1.203849</td>\n",
       "    </tr>\n",
       "    <tr>\n",
       "      <th>75%</th>\n",
       "      <td>744774.000000</td>\n",
       "      <td>189999.000000</td>\n",
       "      <td>7538.000000</td>\n",
       "      <td>51243.000000</td>\n",
       "      <td>2.408984</td>\n",
       "    </tr>\n",
       "    <tr>\n",
       "      <th>max</th>\n",
       "      <td>993032.000000</td>\n",
       "      <td>190022.000000</td>\n",
       "      <td>10000.000000</td>\n",
       "      <td>68142.000000</td>\n",
       "      <td>26599.409160</td>\n",
       "    </tr>\n",
       "  </tbody>\n",
       "</table>\n",
       "</div>"
      ],
      "text/plain": [
       "               Index       RegionID        EventID         YearID  \\\n",
       "count  993033.000000  993033.000000  993033.000000  993033.000000   \n",
       "mean   496516.000000  189966.231672    5034.256885   34244.964928   \n",
       "std    286664.079268      55.844566    2881.747929   19673.435834   \n",
       "min         0.000000  189734.000000       1.000000       1.000000   \n",
       "25%    248258.000000  189951.000000    2518.000000   17165.000000   \n",
       "50%    496516.000000  189976.000000    5037.000000   34193.000000   \n",
       "75%    744774.000000  189999.000000    7538.000000   51243.000000   \n",
       "max    993032.000000  190022.000000   10000.000000   68142.000000   \n",
       "\n",
       "        GroundUpLoss  \n",
       "count  993033.000000  \n",
       "mean       16.896187  \n",
       "std       314.658409  \n",
       "min         0.507096  \n",
       "25%         1.182945  \n",
       "50%         1.203849  \n",
       "75%         2.408984  \n",
       "max     26599.409160  "
      ]
     },
     "execution_count": 9,
     "metadata": {},
     "output_type": "execute_result"
    }
   ],
   "source": [
    "dfe.describe()"
   ]
  },
  {
   "cell_type": "code",
   "execution_count": 10,
   "metadata": {
    "scrolled": true
   },
   "outputs": [
    {
     "data": {
      "image/png": "[encoded data removed]",
      "text/plain": [
       "<Figure size 864x1440 with 10 Axes>"
      ]
     },
     "metadata": {},
     "output_type": "display_data"
    }
   ],
   "source": [
    "#Show the histogram of all numeric variables. Inspect for outliers and meaningless features.\n",
    "sns.set(font_scale=1.)\n",
    "hist = dfe.hist(bins=30, figsize=(12,20), layout=(5,2))"
   ]
  },
  {
   "cell_type": "markdown",
   "metadata": {},
   "source": [
    "#### Locate RegionID"
   ]
  },
  {
   "cell_type": "code",
   "execution_count": 11,
   "metadata": {},
   "outputs": [],
   "source": [
    "#Set target values.\n",
    "target_lat = 45.55\n",
    "target_long = -80.22"
   ]
  },
  {
   "cell_type": "code",
   "execution_count": 12,
   "metadata": {},
   "outputs": [
    {
     "data": {
      "text/plain": [
       "[<matplotlib.lines.Line2D at 0x7fa477954048>]"
      ]
     },
     "execution_count": 12,
     "metadata": {},
     "output_type": "execute_result"
    },
    {
     "data": {
      "image/png": "[encoded data removed]",
      "text/plain": [
       "<Figure size 720x720 with 1 Axes>"
      ]
     },
     "metadata": {},
     "output_type": "display_data"
    }
   ],
   "source": [
    "#First, visualize the distribution of coordinates.\n",
    "fig, ax = plt.subplots(figsize=(10, 10))\n",
    "sns.scatterplot(x='Longitude', y='Latitude', data=dfc, color='blue', ax=ax)\n",
    "ax.plot([target_long], [target_lat], ls='None', color='r', marker='*', markersize=15.)"
   ]
  },
  {
   "cell_type": "markdown",
   "metadata": {},
   "source": [
    "#### -- Solution 1.1 - Closest regionID --"
   ]
  },
  {
   "cell_type": "code",
   "execution_count": 16,
   "metadata": {},
   "outputs": [
    {
     "name": "stdout",
     "output_type": "stream",
     "text": [
      "32.8 ms ± 1.41 ms per loop (mean ± std. dev. of 7 runs, 10 loops each)\n",
      "RegionID of closest point to target latitude and longitude: 190011\n"
     ]
    }
   ],
   "source": [
    "def closest_RegionID(_target_lat,_target_long, _df):\n",
    "    \"\"\"Given a target location, find the nearest RegionID.\n",
    "    Calculate distances using geopy, which provides a good approximation\n",
    "    for Earth's shape.\n",
    "    \n",
    "    Resource: https://stackoverflow.com/questions/40357434/pandas-df-iterrows-parallelization\n",
    "    \"\"\"\n",
    "    \n",
    "    #Set tuple with target latitude and longitude.\n",
    "    target = (target_lat,target_long)\n",
    "\n",
    "    #Compute distances relative to target. \n",
    "    dist = np.array([gpy_dist.distance((lat,long), target).km\n",
    "                     for lat, long in zip(_df['Latitude'].values, _df['Longitude'].values)])\n",
    "\n",
    "    #Get location in dataframe that corresponds to the minimum distance.\n",
    "    mindist_idx = dist.argmin()\n",
    "\n",
    "    #Retrieve Region ID for that distance.\n",
    "    closest_regionID = _df['RegionID'].iloc[mindist_idx]\n",
    "    \n",
    "    return closest_regionID\n",
    "\n",
    "%timeit sol_regionID = closest_RegionID(target_lat, target_long, dfc)\n",
    "print('RegionID of closest point to target latitude and longitude: %d' %sol_regionID)\n"
   ]
  },
  {
   "cell_type": "markdown",
   "metadata": {},
   "source": [
    "#### Solution 1.1 -- speedup"
   ]
  },
  {
   "cell_type": "code",
   "execution_count": 24,
   "metadata": {},
   "outputs": [
    {
     "name": "stdout",
     "output_type": "stream",
     "text": [
      "180 ms ± 846 µs per loop (mean ± std. dev. of 7 runs, 10 loops each)\n",
      "RegionID of closest point to target latitude and longitude: 190011\n"
     ]
    }
   ],
   "source": [
    "def compute_distance(lat, long):   \n",
    "    #Set tuple with target latitude and longitude.\n",
    "    target = (target_lat,target_long)\n",
    "    return gpy_dist.distance((lat, long), target).km\n",
    "\n",
    "def closest_RegionID(_df, num_proc):\n",
    "    \"\"\"Given a target location, find the nearest RegionID.\n",
    "    Calculate distances using geopy, which provides a good approximation\n",
    "    for Earth's shape.\n",
    "    \"\"\"\n",
    "    \n",
    "    #Create a list of tuples containing latitudes and longitudes.\n",
    "    lat_long = zip(_df['Latitude'].values, _df['Longitude'].values)\n",
    "    \n",
    "    #Compute distances relative to target. \n",
    "    with multiprocessing.Pool(processes=num_proc) as pool:\n",
    "        distances = np.asarray(pool.starmap(compute_distance, lat_long))\n",
    "\n",
    "    #Get location in dataframe that corresponds to the minimum distance.\n",
    "    mindist_idx = distances.argmin()\n",
    "\n",
    "    #Retrieve Region ID for that distance.\n",
    "    closest_regionID = _df['RegionID'].iloc[mindist_idx]\n",
    "    \n",
    "    return closest_regionID\n",
    "\n",
    "#Define how many cpu's to use. First option will assign as many as available.\n",
    "#num_processes = multiprocessing.cpu_count()\n",
    "num_processes = 8\n",
    "\n",
    "%timeit sol_regionID = closest_RegionID(dfc, num_processes)\n",
    "print('RegionID of closest point to target latitude and longitude: %d' %sol_regionID)"
   ]
  },
  {
   "cell_type": "markdown",
   "metadata": {},
   "source": [
    "#### -- Solution 1.2 - Average Loss --"
   ]
  },
  {
   "cell_type": "code",
   "execution_count": null,
   "metadata": {},
   "outputs": [],
   "source": [
    "#Define function to compute average loss.\n",
    "def get_averageLoss(regionID, _df):\n",
    "        \n",
    "    #Trim dataframe to include only that regionID.\n",
    "    df_aux = _df[_df['RegionID'] == regionID]\n",
    "    \n",
    "    #We do not know the relationship between YearID and actual time. The average should be time weighted.\n",
    "    #The problem states that we can ASSUME 100,000 yr period. Hence, I will assume YearID to be equally spaced.\n",
    "    loss_avg = np.mean(df_aux['GroundUpLoss'].values)\n",
    "\n",
    "    return loss_avg\n",
    "\n",
    "avg_loss = get_averageLoss(sol_regionID, dfe)\n",
    "print('The average ground loss for RegionID %d is %.4f' %(sol_regionID, avg_loss)) "
   ]
  },
  {
   "cell_type": "markdown",
   "metadata": {},
   "source": [
    "#### -- Solution 1.3 - 5 Nearest Neighbors --"
   ]
  },
  {
   "cell_type": "code",
   "execution_count": null,
   "metadata": {},
   "outputs": [],
   "source": [
    "def find_neighbors(regionID, _dfc, _dfe):\n",
    "    \n",
    "    #Retrieve characterics of the target RegionID.\n",
    "    df_aux = _dfc[_dfc['RegionID'] == regionID]\n",
    "    lat = df_aux['Latitude'].values[0]\n",
    "    long = df_aux['Longitude'].values[0]\n",
    "    char1 = df_aux['Characteristic_1'].values[0]\n",
    "    char2 = df_aux['Characteristic_2'].values[0]\n",
    "    char3 = df_aux['Characteristic_3'].values[0]\n",
    "\n",
    "    #Find subset of RegionIDs that share the same characteristics.\n",
    "    df_aux = _dfc[((_dfc['Characteristic_1'] == char1)\n",
    "                  & (_dfc['Characteristic_2'] == char2)\n",
    "                  & (_dfc['Characteristic_3'] == char3)\n",
    "                  )]\n",
    "    \n",
    "    #Find five closest neighbors. First, remove target from dataframe to prevent a distance of zero.\n",
    "    df_aux = df_aux[df_aux.RegionID != regionID]\n",
    "    \n",
    "    neighbor_RegionID = []\n",
    "    for i in range(5):\n",
    "        rID = closest_RegionID(lat,long, df_aux, 8)\n",
    "        #Drop the retrieved regionID to prevent repetition.\n",
    "        df_aux = df_aux[df_aux.RegionID != rID]\n",
    "        neighbor_RegionID.append(rID)\n",
    "    \n",
    "    #For each of the five nearest neighbors, compute the average GroundUpLoss.\n",
    "    mean_loss = [get_averageLoss(rID, _dfe) for rID in neighbor_RegionID]\n",
    "    \n",
    "    return list(zip(neighbor_RegionID,mean_loss)), lat, long\n",
    "    \n",
    "results, lat, long = find_neighbors(sol_regionID, dfc, dfe)\n",
    "results"
   ]
  },
  {
   "cell_type": "code",
   "execution_count": null,
   "metadata": {},
   "outputs": [],
   "source": [
    "#Sanity check\n",
    "fig, ax = plt.subplots(figsize=(10, 10))\n",
    "sns.scatterplot(x='Longitude', y='Latitude', data=dfc, color='blue', ax=ax)\n",
    "ax.plot([target_long], [target_lat], ls='None', color='r', marker='*', markersize=15.)\n",
    "\n",
    "for rID in np.transpose(results)[0]:\n",
    "    lat, long = dfc[dfc['RegionID'] == rID][['Latitude', 'Longitude']].values[0]\n",
    "    ax.plot([long], [lat], ls='None', color='g', marker='^', markersize=10.)\n",
    "    \n"
   ]
  },
  {
   "cell_type": "code",
   "execution_count": null,
   "metadata": {},
   "outputs": [],
   "source": []
  },
  {
   "cell_type": "markdown",
   "metadata": {},
   "source": [
    "#### Playing with Satellite imagery"
   ]
  },
  {
   "cell_type": "code",
   "execution_count": null,
   "metadata": {},
   "outputs": [],
   "source": [
    "import os\n",
    "import requests\n",
    "import json\n",
    "from requests.auth import HTTPBasicAuth\n",
    "from planet import api\n",
    "os.environ['PL_API_KEY']='43d7e803fb304bcd85cf50aa9b242b6d'\n",
    "\n",
    "client = api.ClientV1()"
   ]
  },
  {
   "cell_type": "code",
   "execution_count": null,
   "metadata": {},
   "outputs": [],
   "source": [
    "geojson_geometry = {\n",
    "  \"type\": \"Polygon\",\n",
    "  \"coordinates\": [\n",
    "          [\n",
    "            [\n",
    "              long - 0.1,\n",
    "              lat - 0.1\n",
    "            ],\n",
    "            [\n",
    "              long + 0.1,\n",
    "              lat - 0.1\n",
    "            ],\n",
    "            [\n",
    "              long + 0.1,\n",
    "              lat + 0.1\n",
    "            ],\n",
    "            [\n",
    "              long - 0.1,\n",
    "              lat - 0.1\n",
    "            ]\n",
    "          ]\n",
    "        ]\n",
    "      }"
   ]
  },
  {
   "cell_type": "code",
   "execution_count": null,
   "metadata": {},
   "outputs": [],
   "source": [
    "geojson_geometry = {\n",
    "  \"type\": \"Polygon\",\n",
    "  \"coordinates\": [\n",
    "    [ \n",
    "      [438.2666015625,22.27893059841188],\n",
    "      [440.013427734375,22.27893059841188],\n",
    "      [440.013427734375,23.33216830631147],\n",
    "      [438.2666015625,23.33216830631147],\n",
    "      [438.2666015625,22.27893059841188]\n",
    "    ]\n",
    "  ]\n",
    "}"
   ]
  },
  {
   "cell_type": "code",
   "execution_count": null,
   "metadata": {},
   "outputs": [],
   "source": [
    "# get images that overlap with our AOI \n",
    "geometry_filter = {\n",
    "  \"type\": \"GeometryFilter\",\n",
    "  \"field_name\": \"geometry\",\n",
    "  \"config\": geojson_geometry\n",
    "}\n",
    "\n",
    "# get images acquired within a date range\n",
    "date_range_filter = {\n",
    "  \"type\": \"DateRangeFilter\",\n",
    "  \"field_name\": \"acquired\",\n",
    "  \"config\": {\n",
    "    \"gte\": \"2016-08-31T00:00:00.000Z\",\n",
    "    \"lte\": \"2016-09-01T00:00:00.000Z\"\n",
    "  }\n",
    "}\n",
    "\n",
    "# only get images which have <50% cloud coverage\n",
    "cloud_cover_filter = {\n",
    "  \"type\": \"RangeFilter\",\n",
    "  \"field_name\": \"cloud_cover\",\n",
    "  \"config\": {\n",
    "    \"lte\": 0.5\n",
    "  }\n",
    "}\n",
    "\n",
    "# combine our geo, date, cloud filters\n",
    "combined_filter = {\n",
    "  \"type\": \"AndFilter\",\n",
    "  \"config\": [geometry_filter, date_range_filter, cloud_cover_filter]\n",
    "}"
   ]
  },
  {
   "cell_type": "code",
   "execution_count": null,
   "metadata": {},
   "outputs": [],
   "source": [
    "# API Key stored as an env variable\n",
    "PLANET_API_KEY = os.getenv('PL_API_KEY') \n",
    "\n",
    "# will get a 4 band image with spectral data for Red, Green, Blue and Near-infrared values\n",
    "item_type = \"PSScene4Band\"\n",
    "\n",
    "# API request object\n",
    "search_request = {\n",
    "  \"interval\": \"day\",\n",
    "  \"item_types\": [item_type], \n",
    "  \"filter\": combined_filter\n",
    "}\n",
    "\n",
    "# fire off the POST request\n",
    "search_result = \\\n",
    "  requests.post(\n",
    "    'https://api.planet.com/data/v1/quick-search',\n",
    "    auth=HTTPBasicAuth(PLANET_API_KEY, ''),\n",
    "    json=search_request)\n",
    "\n",
    "print(json.dumps(search_result.json(), indent=1))"
   ]
  },
  {
   "cell_type": "code",
   "execution_count": null,
   "metadata": {},
   "outputs": [],
   "source": [
    "# extract image IDs only\n",
    "image_ids = [feature['id'] for feature in search_result.json()['features']]\n",
    "print(image_ids)\n",
    "\n",
    "# For demo purposes, just grab the first image ID\n",
    "id0 = image_ids[0]\n",
    "id0_url = 'https://api.planet.com/data/v1/item-types/{}/items/{}/assets'.format(item_type, id0)\n",
    "\n",
    "# Returns JSON metadata for assets in this ID. Learn more: planet.com/docs/reference/data-api/items-assets/#asset\n",
    "result = \\\n",
    "  requests.get(\n",
    "    id0_url,\n",
    "    auth=HTTPBasicAuth(PLANET_API_KEY, '')\n",
    "  )\n",
    "\n",
    "# List of asset types available for this particular satellite image\n",
    "print(result.json().keys())\n",
    "\n",
    "# This is \"inactive\" if the \"analytic\" asset has not yet been activated; otherwise 'active'\n",
    "print(result.json()['analytic_dn']['status'])"
   ]
  },
  {
   "cell_type": "code",
   "execution_count": null,
   "metadata": {},
   "outputs": [],
   "source": [
    "links = result.json()[u\"analytic\"][\"_links\"]\n",
    "self_link = links[\"_self\"]\n",
    "activation_link = links[\"activate\"]\n",
    "\n",
    "# Request activation of the 'analytic' asset:\n",
    "activate_result = \\\n",
    "  requests.get(\n",
    "    activation_link,\n",
    "    auth=HTTPBasicAuth(PLANET_API_KEY, '')\n",
    "  )"
   ]
  },
  {
   "cell_type": "code",
   "execution_count": null,
   "metadata": {},
   "outputs": [],
   "source": [
    "activation_status_result = \\\n",
    "requests.get(\n",
    "  self_link,\n",
    "  auth=HTTPBasicAuth(PLANET_API_KEY, '')\n",
    "  )\n",
    "    \n",
    "print(activation_status_result.json()[\"status\"])"
   ]
  },
  {
   "cell_type": "code",
   "execution_count": null,
   "metadata": {},
   "outputs": [],
   "source": [
    "print(activation_status_result.json()[\"status\"])"
   ]
  },
  {
   "cell_type": "code",
   "execution_count": null,
   "metadata": {},
   "outputs": [],
   "source": [
    "download_link = activation_status_result.json()[\"location\"]\n",
    "print(download_link)"
   ]
  },
  {
   "cell_type": "markdown",
   "metadata": {},
   "source": [
    "# 2) Natural Hazard Models\n",
    "\n",
    "* In the insurance industry, there is always a challenge in blending actual claims results with modelled claim results, where the model can be purchased from a third party.  As one example,  there is a Winterstorm model that can be purchased from two different third party (AIR Worldwide or RMS).  We need to evaluate the model results versus actual results and blend.  How would you go about blending actual and modelled claims results?  Think about 2 or 3 ways you would do this:\n",
    "  * Link to AIR Worldwide Winterstorm: https://www.air-worldwide.com/.../The-AIR-Winter-Storm-Model-for-Canada/\n",
    "  * Link to RMS Winterstorm: https://www.rms.com/models/winter-storm\n",
    "\n",
    "* One project coming up will be to re-write a publicly available piece of software called Prometheus.  Prometheus is a fire growth model which predicts the spread of a wildfire once there is an ignition in a forest.  How would you go about writing this in Python?   Keep in mind there is a lot of research papers / literature on how fire growth occurs.  So we are just using this as an example.  Recommendation: This is a long document and don’t spend your time reading the whole thing.  Maybe focus on wave vs cellular propagation and Rate of Spread as key things to consider when writing in Python. \n",
    "  * Link to Prometheus: http://www.firegrowthmodel.ca/prometheus/documentation_e.php\n"
   ]
  },
  {
   "cell_type": "code",
   "execution_count": null,
   "metadata": {},
   "outputs": [],
   "source": []
  },
  {
   "cell_type": "markdown",
   "metadata": {},
   "source": [
    "# 3) Data Science\n",
    "\n",
    "* Stochastic Optimization / Stochastic Gradient Descent ---> in what settings have you had to use this approach for optimization of ML methods?  Give us an example.\n",
    "* Different ML Approaches ---> What approaches have you used in the past?  Give us an example of a few that you have used and why they worked well.  What sort of visualizations did you use to determine which approach was the best."
   ]
  },
  {
   "cell_type": "code",
   "execution_count": null,
   "metadata": {},
   "outputs": [],
   "source": []
  },
  {
   "cell_type": "markdown",
   "metadata": {},
   "source": [
    "# 4) Data Engineering / Software Engineering\n",
    "\n",
    "* NoSQL / MongoDB / MapReduce ---> in what settings has he used these in the past\n",
    "* Django / Front end --> does he have an interest in developing these pieces of the system"
   ]
  },
  {
   "cell_type": "code",
   "execution_count": null,
   "metadata": {},
   "outputs": [],
   "source": []
  },
  {
   "cell_type": "code",
   "execution_count": null,
   "metadata": {},
   "outputs": [],
   "source": []
  }
 ],
 "metadata": {
  "kernelspec": {
   "display_name": "Python 3",
   "language": "python",
   "name": "python3"
  },
  "language_info": {
   "codemirror_mode": {
    "name": "ipython",
    "version": 3
   },
   "file_extension": ".py",
   "mimetype": "text/x-python",
   "name": "python",
   "nbconvert_exporter": "python",
   "pygments_lexer": "ipython3",
   "version": "3.6.7"
  }
 },
 "nbformat": 4,
 "nbformat_minor": 4
}
